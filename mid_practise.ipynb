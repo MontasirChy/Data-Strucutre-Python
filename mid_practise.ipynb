{
 "cells": [
  {
   "cell_type": "markdown",
   "metadata": {},
   "source": [
    "# Sorting Algorithms\n"
   ]
  },
  {
   "cell_type": "code",
   "execution_count": 2,
   "metadata": {},
   "outputs": [
    {
     "name": "stdout",
     "output_type": "stream",
     "text": [
      "[2, 3, 4, 6, 8]\n"
     ]
    }
   ],
   "source": [
    "def bubblesort(a):\n",
    "    for x in range(len(a)):\n",
    "        for i in range(len(a) -1):\n",
    "            if a[i] > a[i+ 1]:\n",
    "                a[i] , a[i+1] = a[i +1] , a[i]\n",
    "\n",
    "    print(a)\n",
    "a=[2 ,4 ,6 ,8 ,3]\n",
    "bubblesort(a)"
   ]
  },
  {
   "cell_type": "code",
   "execution_count": 3,
   "metadata": {},
   "outputs": [
    {
     "name": "stdout",
     "output_type": "stream",
     "text": [
      "[2, 3, 4, 6, 8]\n"
     ]
    }
   ],
   "source": [
    "def intersectionSort(a):\n",
    "    n = len(a)\n",
    "    for x in range(n):\n",
    "        key = a[x]\n",
    "        j = x -1 \n",
    "        while j>=0 and  key < a[j]:\n",
    "             a[j+1] = a[j]\n",
    "             j -= 1\n",
    "        a[j + 1] = key\n",
    "    print(a)\n",
    "    \n",
    "a=[2 ,4 ,6 ,8 ,3]\n",
    "intersectionSort(a)"
   ]
  },
  {
   "cell_type": "code",
   "execution_count": null,
   "metadata": {},
   "outputs": [
    {
     "name": "stdout",
     "output_type": "stream",
     "text": [
      "[1, 2, 4, 6, 8]\n"
     ]
    }
   ],
   "source": [
    "def selectionSort(a):\n",
    "    for x in range(len(a)):\n",
    "        min_ind = x\n",
    "        for i in range(x +1,len(a)):\n",
    "            if a[i] < a[min_ind]:\n",
    "                min_ind = i\n",
    "        a[min_ind], a[x] = a[x], a[min_ind]\n",
    "\n",
    "    print(a)\n",
    "a = [2,4,6,8,1]\n",
    "selectionSort(a)"
   ]
  },
  {
   "cell_type": "code",
   "execution_count": 9,
   "metadata": {},
   "outputs": [
    {
     "name": "stdout",
     "output_type": "stream",
     "text": [
      "[1, 1, 2, 3, 5, 5, 7]\n"
     ]
    }
   ],
   "source": [
    "def countSort(a):\n",
    "    min_num = min(a)\n",
    "    max_num = max(a)\n",
    "    size = len(a)\n",
    "    output = [0]* size\n",
    "    count = [0] * (max_num+1)\n",
    "\n",
    "    for  x in range(size):\n",
    "        count[a[x]] += 1\n",
    "\n",
    "    for x in range(1, len(count)):\n",
    "        count[x] += count[x-1]\n",
    "    for x in range(size):\n",
    "        output[count[a[x]]-1] = a[x]\n",
    "        count[a[x]] -= 1\n",
    "\n",
    "    print(output)\n",
    "\n",
    "a = [5,1,1,7,5,3,2]\n",
    "countSort(a)\n"
   ]
  },
  {
   "cell_type": "markdown",
   "metadata": {},
   "source": [
    "## Searching Algorithms \n"
   ]
  },
  {
   "cell_type": "code",
   "execution_count": null,
   "metadata": {},
   "outputs": [
    {
     "name": "stdout",
     "output_type": "stream",
     "text": [
      "Found\n"
     ]
    }
   ],
   "source": [
    "def linearSearch(a , target):\n",
    "    if target in a :\n",
    "        print(\"Found\")\n",
    "    else:\n",
    "        print('Not Found')\n",
    "        \n",
    "\n",
    "a = [2,4,1,6]\n",
    "linearSearch(a,4)"
   ]
  },
  {
   "cell_type": "code",
   "execution_count": 17,
   "metadata": {},
   "outputs": [
    {
     "data": {
      "text/plain": [
       "'Foound at index 1'"
      ]
     },
     "execution_count": 17,
     "metadata": {},
     "output_type": "execute_result"
    }
   ],
   "source": [
    "def binarySearch(a ,target):\n",
    "    size = len(a)\n",
    "    low = 0\n",
    "    high = size -1 \n",
    "    while low <= high :\n",
    "        mid = (high + low )//2\n",
    "        if a[mid] == target:\n",
    "            return f'Foound at index {mid}'\n",
    "        elif a[mid] < target :\n",
    "            low = mid +1 \n",
    "        elif a[mid] > mid:\n",
    "            high = mid - 1\n",
    "a = [1,2,3,4,5,6]\n",
    "binarySearch(a,2)    "
   ]
  },
  {
   "cell_type": "markdown",
   "metadata": {},
   "source": [
    "## Linked List\n"
   ]
  },
  {
   "cell_type": "code",
   "execution_count": 2,
   "metadata": {},
   "outputs": [
    {
     "name": "stdout",
     "output_type": "stream",
     "text": [
      "7->6->2\n",
      "6->2\n",
      "6->2->9\n",
      "6->2\n",
      "6->2->5->9\n",
      "9->5->2->6\n",
      "2->5->6->9\n"
     ]
    }
   ],
   "source": [
    "class Node :\n",
    "    def __init__(self , data):\n",
    "        self.data = data\n",
    "        self.next = None\n",
    "\n",
    "class SingleLinkedList:\n",
    "    def __init__(self):\n",
    "        self.head = None\n",
    "\n",
    "    def addFirst(self , data):\n",
    "        if self.head == None:\n",
    "            self.head = Node(data)\n",
    "            return \n",
    "        new_node = Node(data)\n",
    "        new_node.next = self.head\n",
    "        self.head = new_node\n",
    "\n",
    "    def deleteFirst(self):\n",
    "        if self.head == None:\n",
    "            return\n",
    "        if self.head.next == None:\n",
    "            self.head = None\n",
    "            return\n",
    "        if self.head.next :\n",
    "            self.head = self.head.next\n",
    "\n",
    "    def addLast(self,data):\n",
    "        current = self.head\n",
    "        while current.next:\n",
    "             current = current.next\n",
    "\n",
    "        new = Node(data)\n",
    "        \n",
    "        current.next = new\n",
    "    \n",
    "    def deleteLast(self):\n",
    "        current = self.head\n",
    "        while current.next.next:\n",
    "            current = current.next\n",
    "        current.next = None\n",
    "    \n",
    "\n",
    "    def show(self):\n",
    "        current = self.head\n",
    "        if not current:\n",
    "            print('Empty')\n",
    "            return\n",
    "        while current:\n",
    "            if current.next:\n",
    "                print(current.data, end='->')\n",
    "            else:\n",
    "                print(current.data, end='')\n",
    "            current = current.next\n",
    "        print()\n",
    "    \n",
    "    def addMiddle(self,data,key):\n",
    "        current = self.head\n",
    "        while current :\n",
    "            if current.data == data:\n",
    "                new_node =Node(key)\n",
    "                new_node.next = current.next\n",
    "                current.next = new_node\n",
    "            current = current.next\n",
    "    def deleteAfterNode(self,data):\n",
    "        current = self.head \n",
    "        while current:\n",
    "            if current.data == data:\n",
    "                current.next = current.next.next\n",
    "            current = current.next    \n",
    "    def deleteNode(self,data):\n",
    "        current = self.head \n",
    "        while current:\n",
    "            if current.next.data == data:\n",
    "                current.next = current.next.next\n",
    "                return\n",
    "            current = current.next\n",
    "    \n",
    "    def reverse(self):\n",
    "        \n",
    "        prev = None\n",
    "        current = self.head\n",
    "        while current:\n",
    "            next_node = current.next  \n",
    "            current.next = prev  \n",
    "            prev = current  \n",
    "            current = next_node\n",
    "        self.head = prev \n",
    "\n",
    "\n",
    "    def sortList(self):\n",
    "        swapped = True\n",
    "        while swapped:\n",
    "            swapped = False\n",
    "            current = self.head\n",
    "\n",
    "            while current.next:\n",
    "                if current.data > current.next.data:  # Swap if out of order\n",
    "                    current.data, current.next.data = current.next.data, current.data\n",
    "                    swapped = True\n",
    "                current = current.next\n",
    "    \n",
    "\n",
    "s = SingleLinkedList()\n",
    "s.addFirst(2)\n",
    "s.addFirst(6)\n",
    "s.addFirst(7)\n",
    "s.show()\n",
    "s.deleteFirst()\n",
    "s.show()\n",
    "s.addLast(9)\n",
    "s.show()\n",
    "s.deleteLast()\n",
    "s.show()\n",
    "s.addLast(9)\n",
    "s.addMiddle(2,5)\n",
    "s.show()\n",
    "# s.deleteAfterNode(2)\n",
    "# s.show()\n",
    "# s.deleteNode(2)\n",
    "s.reverse()\n",
    "s.show()\n",
    "s.sortList()\n",
    "s.show()\n",
    "\n"
   ]
  },
  {
   "cell_type": "code",
   "execution_count": null,
   "metadata": {},
   "outputs": [],
   "source": []
  }
 ],
 "metadata": {
  "kernelspec": {
   "display_name": "Python 3",
   "language": "python",
   "name": "python3"
  },
  "language_info": {
   "codemirror_mode": {
    "name": "ipython",
    "version": 3
   },
   "file_extension": ".py",
   "mimetype": "text/x-python",
   "name": "python",
   "nbconvert_exporter": "python",
   "pygments_lexer": "ipython3",
   "version": "3.12.6"
  }
 },
 "nbformat": 4,
 "nbformat_minor": 2
}
